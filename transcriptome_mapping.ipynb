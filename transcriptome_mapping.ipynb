{
  "nbformat": 4,
  "nbformat_minor": 0,
  "metadata": {
    "colab": {
      "name": "transcriptome_mapping.ipynb",
      "provenance": [],
      "mount_file_id": "10wyyz-L1wyakG6Ep9UXd9vO5tl-vWoc6",
      "authorship_tag": "ABX9TyM73AymAh8II5B2M32SWm4X",
      "include_colab_link": true
    },
    "kernelspec": {
      "name": "python3",
      "display_name": "Python 3"
    },
    "language_info": {
      "name": "python"
    }
  },
  "cells": [
    {
      "cell_type": "markdown",
      "metadata": {
        "id": "view-in-github",
        "colab_type": "text"
      },
      "source": [
        "<a href=\"https://colab.research.google.com/github/juliaradula/rhizomucor_miehei_transcriptome/blob/main/transcriptome_mapping.ipynb\" target=\"_parent\"><img src=\"https://colab.research.google.com/assets/colab-badge.svg\" alt=\"Open In Colab\"/></a>"
      ]
    },
    {
      "cell_type": "code",
      "metadata": {
        "colab": {
          "base_uri": "https://localhost:8080/"
        },
        "id": "cFDyxLaU-Jvz",
        "outputId": "69a30d26-ede3-4590-cd77-2323291e0601"
      },
      "source": [
        "from google.colab import drive\n",
        "drive.mount('/content/drive')"
      ],
      "execution_count": 1,
      "outputs": [
        {
          "output_type": "stream",
          "text": [
            "Mounted at /content/drive\n"
          ],
          "name": "stdout"
        }
      ]
    },
    {
      "cell_type": "code",
      "metadata": {
        "id": "x2GEtMvy9xAp"
      },
      "source": [
        "import pandas as pd\n",
        "import matplotlib.pyplot as plt"
      ],
      "execution_count": 2,
      "outputs": []
    },
    {
      "cell_type": "code",
      "metadata": {
        "colab": {
          "base_uri": "https://localhost:8080/"
        },
        "id": "foPIpviaDdkE",
        "outputId": "61195340-c1f5-45fd-d5d2-bd4990f37a63"
      },
      "source": [
        "trinotate = pd.read_csv(\"/content/drive/MyDrive/RMA/Trinotate.RMA.xls\", sep=\"\\t\")\n",
        "trinotate.shape"
      ],
      "execution_count": 3,
      "outputs": [
        {
          "output_type": "execute_result",
          "data": {
            "text/plain": [
              "(69080, 16)"
            ]
          },
          "metadata": {
            "tags": []
          },
          "execution_count": 3
        }
      ]
    },
    {
      "cell_type": "code",
      "metadata": {
        "colab": {
          "base_uri": "https://localhost:8080/"
        },
        "id": "u56snVzdDkxb",
        "outputId": "2a6fc348-9f14-45de-8de4-91d5947140d7"
      },
      "source": [
        "anotados = pd.read_csv(\"/content/drive/MyDrive/anotadosRMA.csv\")\n",
        "anotados.shape"
      ],
      "execution_count": 4,
      "outputs": [
        {
          "output_type": "execute_result",
          "data": {
            "text/plain": [
              "(44683, 35)"
            ]
          },
          "metadata": {
            "tags": []
          },
          "execution_count": 4
        }
      ]
    },
    {
      "cell_type": "code",
      "metadata": {
        "colab": {
          "base_uri": "https://localhost:8080/"
        },
        "id": "W1a-ywi_9gz3",
        "outputId": "6ed1e594-b87d-4a84-bd4d-ab4b265cc37f"
      },
      "source": [
        "enzimas = pd.read_csv(\"/content/drive/MyDrive/enzimasRMA.csv\")\n",
        "enzimas.shape"
      ],
      "execution_count": 5,
      "outputs": [
        {
          "output_type": "execute_result",
          "data": {
            "text/plain": [
              "(18687, 3)"
            ]
          },
          "metadata": {
            "tags": []
          },
          "execution_count": 5
        }
      ]
    },
    {
      "cell_type": "code",
      "metadata": {
        "colab": {
          "base_uri": "https://localhost:8080/",
          "height": 424
        },
        "id": "__ZqIa-0-dNW",
        "outputId": "3a39a28a-604d-4a51-d53e-0af31e56b615"
      },
      "source": [
        "hidrolases = pd.DataFrame(enzimas[enzimas[\"EC number\"].str.match(\"^3.*\") == True])\n",
        "hidrolases"
      ],
      "execution_count": 6,
      "outputs": [
        {
          "output_type": "execute_result",
          "data": {
            "text/html": [
              "<div>\n",
              "<style scoped>\n",
              "    .dataframe tbody tr th:only-of-type {\n",
              "        vertical-align: middle;\n",
              "    }\n",
              "\n",
              "    .dataframe tbody tr th {\n",
              "        vertical-align: top;\n",
              "    }\n",
              "\n",
              "    .dataframe thead th {\n",
              "        text-align: right;\n",
              "    }\n",
              "</style>\n",
              "<table border=\"1\" class=\"dataframe\">\n",
              "  <thead>\n",
              "    <tr style=\"text-align: right;\">\n",
              "      <th></th>\n",
              "      <th>DN</th>\n",
              "      <th>EC number</th>\n",
              "      <th>tpm</th>\n",
              "    </tr>\n",
              "  </thead>\n",
              "  <tbody>\n",
              "    <tr>\n",
              "      <th>0</th>\n",
              "      <td>DN5061</td>\n",
              "      <td>3.1.2.-; 3.1.2.2</td>\n",
              "      <td>9.893560</td>\n",
              "    </tr>\n",
              "    <tr>\n",
              "      <th>38</th>\n",
              "      <td>DN14801</td>\n",
              "      <td>3.1.3.33; 2.7.7.50</td>\n",
              "      <td>1127.004947</td>\n",
              "    </tr>\n",
              "    <tr>\n",
              "      <th>39</th>\n",
              "      <td>DN14801</td>\n",
              "      <td>3.1.3.33; 2.7.7.50</td>\n",
              "      <td>1127.004947</td>\n",
              "    </tr>\n",
              "    <tr>\n",
              "      <th>40</th>\n",
              "      <td>DN14801</td>\n",
              "      <td>3.1.3.33; 2.7.7.50</td>\n",
              "      <td>1127.004947</td>\n",
              "    </tr>\n",
              "    <tr>\n",
              "      <th>41</th>\n",
              "      <td>DN14801</td>\n",
              "      <td>3.1.3.33; 2.7.7.50</td>\n",
              "      <td>1127.004947</td>\n",
              "    </tr>\n",
              "    <tr>\n",
              "      <th>...</th>\n",
              "      <td>...</td>\n",
              "      <td>...</td>\n",
              "      <td>...</td>\n",
              "    </tr>\n",
              "    <tr>\n",
              "      <th>18679</th>\n",
              "      <td>DN21038</td>\n",
              "      <td>3.6.4.-</td>\n",
              "      <td>8.481590</td>\n",
              "    </tr>\n",
              "    <tr>\n",
              "      <th>18680</th>\n",
              "      <td>DN21028</td>\n",
              "      <td>3.6.4.-</td>\n",
              "      <td>19.901850</td>\n",
              "    </tr>\n",
              "    <tr>\n",
              "      <th>18681</th>\n",
              "      <td>DN21028</td>\n",
              "      <td>3.6.4.-</td>\n",
              "      <td>19.901850</td>\n",
              "    </tr>\n",
              "    <tr>\n",
              "      <th>18682</th>\n",
              "      <td>DN21028</td>\n",
              "      <td>3.6.4.-</td>\n",
              "      <td>19.901850</td>\n",
              "    </tr>\n",
              "    <tr>\n",
              "      <th>18683</th>\n",
              "      <td>DN21028</td>\n",
              "      <td>3.6.4.12</td>\n",
              "      <td>19.901850</td>\n",
              "    </tr>\n",
              "  </tbody>\n",
              "</table>\n",
              "<p>5879 rows × 3 columns</p>\n",
              "</div>"
            ],
            "text/plain": [
              "            DN           EC number          tpm\n",
              "0       DN5061    3.1.2.-; 3.1.2.2     9.893560\n",
              "38     DN14801  3.1.3.33; 2.7.7.50  1127.004947\n",
              "39     DN14801  3.1.3.33; 2.7.7.50  1127.004947\n",
              "40     DN14801  3.1.3.33; 2.7.7.50  1127.004947\n",
              "41     DN14801  3.1.3.33; 2.7.7.50  1127.004947\n",
              "...        ...                 ...          ...\n",
              "18679  DN21038             3.6.4.-     8.481590\n",
              "18680  DN21028             3.6.4.-    19.901850\n",
              "18681  DN21028             3.6.4.-    19.901850\n",
              "18682  DN21028             3.6.4.-    19.901850\n",
              "18683  DN21028            3.6.4.12    19.901850\n",
              "\n",
              "[5879 rows x 3 columns]"
            ]
          },
          "metadata": {
            "tags": []
          },
          "execution_count": 6
        }
      ]
    },
    {
      "cell_type": "code",
      "metadata": {
        "colab": {
          "base_uri": "https://localhost:8080/"
        },
        "id": "KiYtAIi-EpKs",
        "outputId": "122af265-cda9-42f0-fe14-a9413d4e3ab8"
      },
      "source": [
        "hidrolases.shape"
      ],
      "execution_count": 7,
      "outputs": [
        {
          "output_type": "execute_result",
          "data": {
            "text/plain": [
              "(5879, 3)"
            ]
          },
          "metadata": {
            "tags": []
          },
          "execution_count": 7
        }
      ]
    },
    {
      "cell_type": "code",
      "metadata": {
        "id": "dHozgRH1QKxs"
      },
      "source": [
        "peptidases = pd.DataFrame(enzimas[enzimas[\"EC number\"].str.match(\"^3.4.*\") == True])"
      ],
      "execution_count": 8,
      "outputs": []
    },
    {
      "cell_type": "code",
      "metadata": {
        "colab": {
          "base_uri": "https://localhost:8080/"
        },
        "id": "8rIzqpwuEsxT",
        "outputId": "27cf4b5e-7baa-4bb3-89b0-2f248769193d"
      },
      "source": [
        "peptidases.shape"
      ],
      "execution_count": 9,
      "outputs": [
        {
          "output_type": "execute_result",
          "data": {
            "text/plain": [
              "(1362, 3)"
            ]
          },
          "metadata": {
            "tags": []
          },
          "execution_count": 9
        }
      ]
    },
    {
      "cell_type": "code",
      "metadata": {
        "colab": {
          "base_uri": "https://localhost:8080/"
        },
        "id": "I-HLbvI69uXI",
        "outputId": "f88ccaa6-04e5-4b57-8ec0-71fd72413723"
      },
      "source": [
        "enzimas.dtypes"
      ],
      "execution_count": 10,
      "outputs": [
        {
          "output_type": "execute_result",
          "data": {
            "text/plain": [
              "DN            object\n",
              "EC number     object\n",
              "tpm          float64\n",
              "dtype: object"
            ]
          },
          "metadata": {
            "tags": []
          },
          "execution_count": 10
        }
      ]
    },
    {
      "cell_type": "code",
      "metadata": {
        "colab": {
          "base_uri": "https://localhost:8080/",
          "height": 424
        },
        "id": "NItd6C_c7S6s",
        "outputId": "2740b240-5b44-4b25-b0e2-758fc5dd9576"
      },
      "source": [
        "enzimas2 = enzimas.drop_duplicates()\n",
        "enzimas2"
      ],
      "execution_count": 11,
      "outputs": [
        {
          "output_type": "execute_result",
          "data": {
            "text/html": [
              "<div>\n",
              "<style scoped>\n",
              "    .dataframe tbody tr th:only-of-type {\n",
              "        vertical-align: middle;\n",
              "    }\n",
              "\n",
              "    .dataframe tbody tr th {\n",
              "        vertical-align: top;\n",
              "    }\n",
              "\n",
              "    .dataframe thead th {\n",
              "        text-align: right;\n",
              "    }\n",
              "</style>\n",
              "<table border=\"1\" class=\"dataframe\">\n",
              "  <thead>\n",
              "    <tr style=\"text-align: right;\">\n",
              "      <th></th>\n",
              "      <th>DN</th>\n",
              "      <th>EC number</th>\n",
              "      <th>tpm</th>\n",
              "    </tr>\n",
              "  </thead>\n",
              "  <tbody>\n",
              "    <tr>\n",
              "      <th>0</th>\n",
              "      <td>DN5061</td>\n",
              "      <td>3.1.2.-; 3.1.2.2</td>\n",
              "      <td>9.893560</td>\n",
              "    </tr>\n",
              "    <tr>\n",
              "      <th>1</th>\n",
              "      <td>DN5023</td>\n",
              "      <td>6.1.1.5</td>\n",
              "      <td>7.391160</td>\n",
              "    </tr>\n",
              "    <tr>\n",
              "      <th>3</th>\n",
              "      <td>DN15190</td>\n",
              "      <td>6.1.1.5</td>\n",
              "      <td>45.590660</td>\n",
              "    </tr>\n",
              "    <tr>\n",
              "      <th>5</th>\n",
              "      <td>DN12584</td>\n",
              "      <td>6.1.1.5</td>\n",
              "      <td>5.051480</td>\n",
              "    </tr>\n",
              "    <tr>\n",
              "      <th>7</th>\n",
              "      <td>DN8233</td>\n",
              "      <td>6.1.1.5</td>\n",
              "      <td>8.026920</td>\n",
              "    </tr>\n",
              "    <tr>\n",
              "      <th>...</th>\n",
              "      <td>...</td>\n",
              "      <td>...</td>\n",
              "      <td>...</td>\n",
              "    </tr>\n",
              "    <tr>\n",
              "      <th>18677</th>\n",
              "      <td>DN21097</td>\n",
              "      <td>2.7.7.49</td>\n",
              "      <td>94.184985</td>\n",
              "    </tr>\n",
              "    <tr>\n",
              "      <th>18679</th>\n",
              "      <td>DN21038</td>\n",
              "      <td>3.6.4.-</td>\n",
              "      <td>8.481590</td>\n",
              "    </tr>\n",
              "    <tr>\n",
              "      <th>18680</th>\n",
              "      <td>DN21028</td>\n",
              "      <td>3.6.4.-</td>\n",
              "      <td>19.901850</td>\n",
              "    </tr>\n",
              "    <tr>\n",
              "      <th>18683</th>\n",
              "      <td>DN21028</td>\n",
              "      <td>3.6.4.12</td>\n",
              "      <td>19.901850</td>\n",
              "    </tr>\n",
              "    <tr>\n",
              "      <th>18684</th>\n",
              "      <td>DN21025</td>\n",
              "      <td>1.-.-.-</td>\n",
              "      <td>352.272700</td>\n",
              "    </tr>\n",
              "  </tbody>\n",
              "</table>\n",
              "<p>5960 rows × 3 columns</p>\n",
              "</div>"
            ],
            "text/plain": [
              "            DN         EC number         tpm\n",
              "0       DN5061  3.1.2.-; 3.1.2.2    9.893560\n",
              "1       DN5023           6.1.1.5    7.391160\n",
              "3      DN15190           6.1.1.5   45.590660\n",
              "5      DN12584           6.1.1.5    5.051480\n",
              "7       DN8233           6.1.1.5    8.026920\n",
              "...        ...               ...         ...\n",
              "18677  DN21097          2.7.7.49   94.184985\n",
              "18679  DN21038           3.6.4.-    8.481590\n",
              "18680  DN21028           3.6.4.-   19.901850\n",
              "18683  DN21028          3.6.4.12   19.901850\n",
              "18684  DN21025           1.-.-.-  352.272700\n",
              "\n",
              "[5960 rows x 3 columns]"
            ]
          },
          "metadata": {
            "tags": []
          },
          "execution_count": 11
        }
      ]
    },
    {
      "cell_type": "code",
      "metadata": {
        "colab": {
          "base_uri": "https://localhost:8080/",
          "height": 424
        },
        "id": "u7kSgM-n7uQT",
        "outputId": "5e55fe97-5cbd-4707-9b37-404038f72af4"
      },
      "source": [
        "hidrolases2 = pd.DataFrame(enzimas2[enzimas2[\"EC number\"].str.match(\"^3.*\") == True])\n",
        "hidrolases2"
      ],
      "execution_count": 12,
      "outputs": [
        {
          "output_type": "execute_result",
          "data": {
            "text/html": [
              "<div>\n",
              "<style scoped>\n",
              "    .dataframe tbody tr th:only-of-type {\n",
              "        vertical-align: middle;\n",
              "    }\n",
              "\n",
              "    .dataframe tbody tr th {\n",
              "        vertical-align: top;\n",
              "    }\n",
              "\n",
              "    .dataframe thead th {\n",
              "        text-align: right;\n",
              "    }\n",
              "</style>\n",
              "<table border=\"1\" class=\"dataframe\">\n",
              "  <thead>\n",
              "    <tr style=\"text-align: right;\">\n",
              "      <th></th>\n",
              "      <th>DN</th>\n",
              "      <th>EC number</th>\n",
              "      <th>tpm</th>\n",
              "    </tr>\n",
              "  </thead>\n",
              "  <tbody>\n",
              "    <tr>\n",
              "      <th>0</th>\n",
              "      <td>DN5061</td>\n",
              "      <td>3.1.2.-; 3.1.2.2</td>\n",
              "      <td>9.893560</td>\n",
              "    </tr>\n",
              "    <tr>\n",
              "      <th>38</th>\n",
              "      <td>DN14801</td>\n",
              "      <td>3.1.3.33; 2.7.7.50</td>\n",
              "      <td>1127.004947</td>\n",
              "    </tr>\n",
              "    <tr>\n",
              "      <th>42</th>\n",
              "      <td>DN5045</td>\n",
              "      <td>3.5.1.41</td>\n",
              "      <td>582.133000</td>\n",
              "    </tr>\n",
              "    <tr>\n",
              "      <th>43</th>\n",
              "      <td>DN1513</td>\n",
              "      <td>3.5.1.41</td>\n",
              "      <td>2.097720</td>\n",
              "    </tr>\n",
              "    <tr>\n",
              "      <th>44</th>\n",
              "      <td>DN1589</td>\n",
              "      <td>3.5.1.41</td>\n",
              "      <td>3.338240</td>\n",
              "    </tr>\n",
              "    <tr>\n",
              "      <th>...</th>\n",
              "      <td>...</td>\n",
              "      <td>...</td>\n",
              "      <td>...</td>\n",
              "    </tr>\n",
              "    <tr>\n",
              "      <th>18650</th>\n",
              "      <td>DN9353</td>\n",
              "      <td>3.1.4.54</td>\n",
              "      <td>4.174610</td>\n",
              "    </tr>\n",
              "    <tr>\n",
              "      <th>18658</th>\n",
              "      <td>DN9354</td>\n",
              "      <td>3.1.26.3</td>\n",
              "      <td>30.696380</td>\n",
              "    </tr>\n",
              "    <tr>\n",
              "      <th>18679</th>\n",
              "      <td>DN21038</td>\n",
              "      <td>3.6.4.-</td>\n",
              "      <td>8.481590</td>\n",
              "    </tr>\n",
              "    <tr>\n",
              "      <th>18680</th>\n",
              "      <td>DN21028</td>\n",
              "      <td>3.6.4.-</td>\n",
              "      <td>19.901850</td>\n",
              "    </tr>\n",
              "    <tr>\n",
              "      <th>18683</th>\n",
              "      <td>DN21028</td>\n",
              "      <td>3.6.4.12</td>\n",
              "      <td>19.901850</td>\n",
              "    </tr>\n",
              "  </tbody>\n",
              "</table>\n",
              "<p>1863 rows × 3 columns</p>\n",
              "</div>"
            ],
            "text/plain": [
              "            DN           EC number          tpm\n",
              "0       DN5061    3.1.2.-; 3.1.2.2     9.893560\n",
              "38     DN14801  3.1.3.33; 2.7.7.50  1127.004947\n",
              "42      DN5045            3.5.1.41   582.133000\n",
              "43      DN1513            3.5.1.41     2.097720\n",
              "44      DN1589            3.5.1.41     3.338240\n",
              "...        ...                 ...          ...\n",
              "18650   DN9353            3.1.4.54     4.174610\n",
              "18658   DN9354            3.1.26.3    30.696380\n",
              "18679  DN21038             3.6.4.-     8.481590\n",
              "18680  DN21028             3.6.4.-    19.901850\n",
              "18683  DN21028            3.6.4.12    19.901850\n",
              "\n",
              "[1863 rows x 3 columns]"
            ]
          },
          "metadata": {
            "tags": []
          },
          "execution_count": 12
        }
      ]
    },
    {
      "cell_type": "code",
      "metadata": {
        "colab": {
          "base_uri": "https://localhost:8080/"
        },
        "id": "jI9UeVUX-xis",
        "outputId": "7fc17e4a-6423-440b-ca27-df20799f36c9"
      },
      "source": [
        "hidrolases2[\"tpm\"].sum()"
      ],
      "execution_count": 13,
      "outputs": [
        {
          "output_type": "execute_result",
          "data": {
            "text/plain": [
              "95442.97279525876"
            ]
          },
          "metadata": {
            "tags": []
          },
          "execution_count": 13
        }
      ]
    },
    {
      "cell_type": "code",
      "metadata": {
        "id": "HX7EdsRe0MXm"
      },
      "source": [
        "oxirresutases2 = pd.DataFrame(enzimas2[enzimas2[\"EC number\"].str.match(\"^1.*\") == True])\n",
        "transferases2 = pd.DataFrame(enzimas2[enzimas2[\"EC number\"].str.match(\"^2.*\") == True])\n",
        "liases2 = pd.DataFrame(enzimas2[enzimas2[\"EC number\"].str.match(\"^4.*\") == True])\n",
        "isomerases2 = pd.DataFrame(enzimas2[enzimas2[\"EC number\"].str.match(\"^5.*\") == True])\n",
        "ligases2 = pd.DataFrame(enzimas2[enzimas2[\"EC number\"].str.match(\"^6.*\") == True])\n",
        "translocases2 = pd.DataFrame(enzimas2[enzimas2[\"EC number\"].str.match(\"^7.*\") == True])"
      ],
      "execution_count": 14,
      "outputs": []
    },
    {
      "cell_type": "code",
      "metadata": {
        "colab": {
          "base_uri": "https://localhost:8080/"
        },
        "id": "isPiPa5k8DAj",
        "outputId": "b9d0b489-e376-4405-ee20-cde9edf74198"
      },
      "source": [
        "print(oxirresutases2.shape, transferases2.shape, hidrolases2.shape, liases2.shape, isomerases2.shape, ligases2.shape, translocases2.shape)"
      ],
      "execution_count": 15,
      "outputs": [
        {
          "output_type": "stream",
          "text": [
            "(1004, 3) (2256, 3) (1863, 3) (240, 3) (178, 3) (281, 3) (138, 3)\n"
          ],
          "name": "stdout"
        }
      ]
    },
    {
      "cell_type": "code",
      "metadata": {
        "colab": {
          "base_uri": "https://localhost:8080/",
          "height": 269
        },
        "id": "GL2PSjund3ju",
        "outputId": "30924473-e319-4121-e9a1-009cda65fea7"
      },
      "source": [
        "classe_enzimas_dict = {\"Classe\":[\"Translocases\", \"Ligases\", \"Isomerases\", \"Liases\",  \"Hidrolases\",  \"Transferases\", \"Oxirredutases\"], \"tpm\" : [translocases2[\"tpm\"].sum(), ligases2[\"tpm\"].sum(), isomerases2[\"tpm\"].sum(), liases2[\"tpm\"].sum(), hidrolases2[\"tpm\"].sum(), transferases2[\"tpm\"].sum(), oxirresutases2[\"tpm\"].sum()]}\n",
        "classe_enzimas_df = pd.DataFrame(data=classe_enzimas_dict)\n",
        "classe_enzimas_df"
      ],
      "execution_count": 16,
      "outputs": [
        {
          "output_type": "execute_result",
          "data": {
            "text/html": [
              "<div>\n",
              "<style scoped>\n",
              "    .dataframe tbody tr th:only-of-type {\n",
              "        vertical-align: middle;\n",
              "    }\n",
              "\n",
              "    .dataframe tbody tr th {\n",
              "        vertical-align: top;\n",
              "    }\n",
              "\n",
              "    .dataframe thead th {\n",
              "        text-align: right;\n",
              "    }\n",
              "</style>\n",
              "<table border=\"1\" class=\"dataframe\">\n",
              "  <thead>\n",
              "    <tr style=\"text-align: right;\">\n",
              "      <th></th>\n",
              "      <th>Classe</th>\n",
              "      <th>tpm</th>\n",
              "    </tr>\n",
              "  </thead>\n",
              "  <tbody>\n",
              "    <tr>\n",
              "      <th>0</th>\n",
              "      <td>Translocases</td>\n",
              "      <td>17779.661605</td>\n",
              "    </tr>\n",
              "    <tr>\n",
              "      <th>1</th>\n",
              "      <td>Ligases</td>\n",
              "      <td>9495.025429</td>\n",
              "    </tr>\n",
              "    <tr>\n",
              "      <th>2</th>\n",
              "      <td>Isomerases</td>\n",
              "      <td>10862.491421</td>\n",
              "    </tr>\n",
              "    <tr>\n",
              "      <th>3</th>\n",
              "      <td>Liases</td>\n",
              "      <td>15415.974518</td>\n",
              "    </tr>\n",
              "    <tr>\n",
              "      <th>4</th>\n",
              "      <td>Hidrolases</td>\n",
              "      <td>95442.972795</td>\n",
              "    </tr>\n",
              "    <tr>\n",
              "      <th>5</th>\n",
              "      <td>Transferases</td>\n",
              "      <td>82284.514472</td>\n",
              "    </tr>\n",
              "    <tr>\n",
              "      <th>6</th>\n",
              "      <td>Oxirredutases</td>\n",
              "      <td>70102.937805</td>\n",
              "    </tr>\n",
              "  </tbody>\n",
              "</table>\n",
              "</div>"
            ],
            "text/plain": [
              "          Classe           tpm\n",
              "0   Translocases  17779.661605\n",
              "1        Ligases   9495.025429\n",
              "2     Isomerases  10862.491421\n",
              "3         Liases  15415.974518\n",
              "4     Hidrolases  95442.972795\n",
              "5   Transferases  82284.514472\n",
              "6  Oxirredutases  70102.937805"
            ]
          },
          "metadata": {
            "tags": []
          },
          "execution_count": 16
        }
      ]
    },
    {
      "cell_type": "code",
      "metadata": {
        "id": "CeZOsbiQquuJ"
      },
      "source": [
        "cm = 1/2.54"
      ],
      "execution_count": 17,
      "outputs": []
    },
    {
      "cell_type": "code",
      "metadata": {
        "colab": {
          "base_uri": "https://localhost:8080/",
          "height": 141
        },
        "id": "8j2PCIyd5n8D",
        "outputId": "e0af57a7-93f1-450e-b444-61ca9f3c313d"
      },
      "source": [
        "classe = [\"Transcritos\"]\n",
        "fig, ax = plt.subplots(figsize=(16,0.8))\n",
        "ax.set_xlabel(\"Número de transcritos\", fontdict={\"fontsize\": 20})\n",
        "plt.xticks([1362, 5879, 18687, 44683, 69080], fontsize=16)#, rotation=45)\n",
        "plt.yticks([])\n",
        "plt.title(\"Sequências do transciptoma\", fontdict={\"fontsize\":20})\n",
        "\n",
        "ax.barh(classe, peptidases.shape[0], color=\"#701F57\", label=\"Peptidases\")\n",
        "ax.barh(classe, hidrolases.shape[0]-peptidases.shape[0], color =  \"#AD1659\" , left = peptidases.shape[0], label=\"Hidrolases\")\n",
        "ax.barh(classe, enzimas.shape[0]-hidrolases.shape[0], color = \"#E23342\", left = hidrolases.shape[0], label=\"Enzimas\")\n",
        "ax.barh(classe, anotados.shape[0]-enzimas.shape[0], color = \"#F47650\", left = enzimas.shape[0], label=\"Transcritos anotados\")\n",
        "ax.barh(classe, trinotate.shape[0]-anotados.shape[0], color = \"#F6B58F\", left = anotados.shape[0], label=\"Total de transcritos\")\n",
        "ax.set_xlim(0,69080)\n",
        "\n",
        "\n",
        "#plt.legend(fontsize=10, loc=4)\n",
        "plt.savefig(\"/content/drive/MyDrive/sequencias_transcriptoma_RMA.png\", bbox_inches='tight')"
      ],
      "execution_count": 29,
      "outputs": [
        {
          "output_type": "display_data",
          "data": {
            "image/png": "[encoded data removed]",
            "text/plain": [
              "<Figure size 1152x57.6 with 1 Axes>"
            ]
          },
          "metadata": {
            "tags": [],
            "needs_background": "light"
          }
        }
      ]
    },
    {
      "cell_type": "code",
      "metadata": {
        "colab": {
          "base_uri": "https://localhost:8080/",
          "height": 304
        },
        "id": "cyGErAewxFFY",
        "outputId": "73f7ecac-690b-4184-9855-55d21b5687b1"
      },
      "source": [
        "fig, ax = plt.subplots(figsize=(8,4))\n",
        "ax.set_xlabel(\"TPM\", fontdict={\"fontsize\":14})\n",
        "ax.set_ylabel(\"Classe\", fontdict={\"fontsize\":14})\n",
        "plt.title(\"Expressão relativa das classes enzimáticas\", fontdict={\"fontsize\":14})\n",
        "plt.xticks(fontsize=12)#, rotation=45)\n",
        "plt.yticks(fontsize=12)\n",
        "plt.grid(axis='x')\n",
        "ax.set_axisbelow(True)\n",
        "\n",
        "\n",
        "ax.barh(classe_enzimas_df[\"Classe\"], classe_enzimas_df[\"tpm\"], color= [\"#E23342\", \"#E23342\", \"#E23342\", \"#E23342\", \"#AD1659\", \"#E23342\", \"#E23342\"], height=0.5)\n",
        "\n",
        "plt.savefig(\"/content/drive/MyDrive/expressao_enzimas_RMA.png\", bbox_inches='tight')"
      ],
      "execution_count": 31,
      "outputs": [
        {
          "output_type": "display_data",
          "data": {
            "image/png": "[encoded data removed]",
            "text/plain": [
              "<Figure size 576x288 with 1 Axes>"
            ]
          },
          "metadata": {
            "tags": [],
            "needs_background": "light"
          }
        }
      ]
    },
    {
      "cell_type": "code",
      "metadata": {
        "colab": {
          "base_uri": "https://localhost:8080/"
        },
        "id": "VrEHDpK5VlNo",
        "outputId": "3e816e8b-fdc0-41e6-c076-a4f9526910f7"
      },
      "source": [
        "hidrolases2[\"tpm\"].sum()"
      ],
      "execution_count": 32,
      "outputs": [
        {
          "output_type": "execute_result",
          "data": {
            "text/plain": [
              "95442.97279525876"
            ]
          },
          "metadata": {
            "tags": []
          },
          "execution_count": 32
        }
      ]
    },
    {
      "cell_type": "code",
      "metadata": {
        "colab": {
          "base_uri": "https://localhost:8080/"
        },
        "id": "-5XCk4nhV63c",
        "outputId": "920920b1-67d6-4c88-9792-2ac400f076bf"
      },
      "source": [
        "hydro_unique = hidrolases2[\"EC number\"].unique()\n",
        "hydro_unique.sort()\n",
        "hydro_unique"
      ],
      "execution_count": 33,
      "outputs": [
        {
          "output_type": "execute_result",
          "data": {
            "text/plain": [
              "array(['3.-.-.-', '3.1.-.-', '3.1.-.-; 3.1.1.23', '3.1.-.-; 3.6.4.12',\n",
              "       '3.1.1.-', '3.1.1.-; 3.1.1.23; 3.1.-.-', '3.1.1.1', '3.1.1.106',\n",
              "       '3.1.1.106; 3.2.2.-', '3.1.1.11', '3.1.1.13', '3.1.1.23',\n",
              "       '3.1.1.24', '3.1.1.29', '3.1.1.2; 3.1.1.81; 3.1.8.1', '3.1.1.3',\n",
              "       '3.1.1.31', '3.1.1.32; 3.1.1.4', '3.1.1.4', '3.1.1.45',\n",
              "       '3.1.1.4; 3.1.1.5', '3.1.1.4; 3.1.1.5; 2.3.1.-', '3.1.1.5',\n",
              "       '3.1.1.5; 3.1.1.4; 3.1.1.3', '3.1.1.5; 3.5.1.1; 3.1.1.47',\n",
              "       '3.1.1.6', '3.1.1.64; 5.3.3.22', '3.1.1.65', '3.1.1.79; 3.1.1.23',\n",
              "       '3.1.1.83', '3.1.1.89', '3.1.1.96', '3.1.1.97', '3.1.1.n2',\n",
              "       '3.1.11.1; 3.1.13.-', '3.1.11.2', '3.1.13.-', '3.1.13.-; 3.1.26.-',\n",
              "       '3.1.13.1', '3.1.13.4', '3.1.2.-', '3.1.2.-; 3.1.2.2',\n",
              "       '3.1.2.-; 3.1.2.4', '3.1.2.-; 3.5.1.-; 3.5.1.124', '3.1.2.1',\n",
              "       '3.1.2.12', '3.1.2.12; 3.1.1.56',\n",
              "       '3.1.2.1; 3.1.2.11; 3.1.2.2; 3.1.2.3; 3.1.2.5; 3.1.2.27',\n",
              "       '3.1.2.20', '3.1.2.22', '3.1.2.22; 3.1.1.93', '3.1.2.4', '3.1.2.6',\n",
              "       '3.1.21.-', '3.1.21.7', '3.1.22.-', '3.1.22.4', '3.1.26.-',\n",
              "       '3.1.26.-; 3.6.4.-', '3.1.26.11', '3.1.26.3', '3.1.26.4',\n",
              "       '3.1.26.5', '3.1.26.n2', '3.1.27.-', '3.1.3.-',\n",
              "       '3.1.3.-; 3.1.3.36', '3.1.3.-; 3.1.3.48', '3.1.3.1', '3.1.3.100',\n",
              "       '3.1.3.11', '3.1.3.12', '3.1.3.15', '3.1.3.16',\n",
              "       '3.1.3.16; 3.1.3.48', '3.1.3.16; 3.1.3.48; 3.1.3.67', '3.1.3.2',\n",
              "       '3.1.3.22; 3.1.3.50; 3.1.3.23', '3.1.3.25', '3.1.3.27',\n",
              "       '3.1.3.27; 3.1.3.16; 3.1.3.48', '3.1.3.3', '3.1.3.32; 2.7.1.78',\n",
              "       '3.1.3.33', '3.1.3.33; 2.7.7.50', '3.1.3.36',\n",
              "       '3.1.3.36; 3.1.3.56; 3.1.3.86', '3.1.3.4', '3.1.3.41', '3.1.3.43',\n",
              "       '3.1.3.46', '3.1.3.48', '3.1.3.48; 3.1.3.2', '3.1.3.4; 3.1.3.81',\n",
              "       '3.1.3.5', '3.1.3.62; 3.1.3.80', '3.1.3.64',\n",
              "       '3.1.3.6; 3.1.4.16; 3.1.3.5', '3.1.3.7', '3.1.3.77',\n",
              "       '3.1.3.81; 3.1.3.4', '3.1.3.86', '3.1.3.86; 3.1.3.56; 3.1.3.36',\n",
              "       '3.1.3.89', '3.1.3.91; 3.1.3.5', '3.1.3.96', '3.1.30.-',\n",
              "       '3.1.31.1', '3.1.4.-', '3.1.4.1', '3.1.4.12', '3.1.4.17',\n",
              "       '3.1.4.2', '3.1.4.35', '3.1.4.4', '3.1.4.50', '3.1.4.53',\n",
              "       '3.1.4.54', '3.1.5.-', '3.1.6.1', '3.2.-.-', '3.2.1.-', '3.2.1.1',\n",
              "       '3.2.1.106', '3.2.1.113', '3.2.1.132', '3.2.1.14', '3.2.1.151',\n",
              "       '3.2.1.17', '3.2.1.172', '3.2.1.199', '3.2.1.20', '3.2.1.207',\n",
              "       '3.2.1.21', '3.2.1.22', '3.2.1.23', '3.2.1.24', '3.2.1.28',\n",
              "       '3.2.1.3', '3.2.1.39', '3.2.1.4', '3.2.1.51', '3.2.1.52',\n",
              "       '3.2.1.55', '3.2.1.58', '3.2.1.6', '3.2.1.67', '3.2.1.73',\n",
              "       '3.2.1.78', '3.2.1.8; 3.2.1.73', '3.2.1.96', '3.2.1.99', '3.2.2.-',\n",
              "       '3.2.2.-; 4.2.99.18', '3.2.2.21', '3.2.2.23; 4.2.99.18',\n",
              "       '3.2.2.27', '3.2.2.29', '3.2.2.31', '3.3.1.1', '3.3.2.10',\n",
              "       '3.3.2.10; 3.1.3.76', '3.3.2.6; 3.4.11.4', '3.3.2.9', '3.4.-.-',\n",
              "       '3.4.11.-', '3.4.11.-; 3.3.2.10', '3.4.11.18',\n",
              "       '3.4.11.1; 3.4.11.5', '3.4.11.1; 3.4.13.23; 3.4.11.5', '3.4.11.2',\n",
              "       '3.4.11.21', '3.4.11.26', '3.4.11.5', '3.4.11.9', '3.4.13.-',\n",
              "       '3.4.13.19; 3.5.2.6', '3.4.13.9', '3.4.14.-', '3.4.14.10',\n",
              "       '3.4.14.4', '3.4.14.5', '3.4.16.5', '3.4.16.6', '3.4.17.21',\n",
              "       '3.4.19.-', '3.4.19.1', '3.4.19.12', '3.4.19.13; 2.3.2.2',\n",
              "       '3.4.19.13; 2.3.2.2; 3.4.19.14', '3.4.21.-', '3.4.21.105',\n",
              "       '3.4.21.48', '3.4.21.53', '3.4.21.63', '3.4.21.83', '3.4.21.89',\n",
              "       '3.4.21.92', '3.4.21.96', '3.4.22.-', '3.4.22.40', '3.4.22.49',\n",
              "       '3.4.23.-', '3.4.23.-; 2.7.7.49',\n",
              "       '3.4.23.-; 2.7.7.49; 2.7.7.7; 3.1.26.4',\n",
              "       '3.4.23.-; 2.7.7.49; 2.7.7.7; 3.1.26.4; 2.7.7.-; 3.1.-.-',\n",
              "       '3.4.23.-; 2.7.7.49; 3.1.26.13; 3.1.13.2; 3.6.1.23; 2.7.7.-; 3.1.-.-',\n",
              "       '3.4.23.1', '3.4.23.18', '3.4.23.21', '3.4.23.23', '3.4.23.25',\n",
              "       '3.4.23.3', '3.4.23.34', '3.4.23.5', '3.4.24.-', '3.4.24.11',\n",
              "       '3.4.24.15', '3.4.24.56', '3.4.24.59', '3.4.24.64', '3.4.24.70',\n",
              "       '3.4.24.71', '3.4.24.84', '3.4.24.85', '3.4.25.-', '3.4.25.1',\n",
              "       '3.5.-.-', '3.5.1.-', '3.5.1.-; 3.2.2.-', '3.5.1.-; 3.5.1.23',\n",
              "       '3.5.1.-; 3.5.1.62', '3.5.1.1', '3.5.1.104', '3.5.1.122',\n",
              "       '3.5.1.125', '3.5.1.128', '3.5.1.19; 3.5.1.-', '3.5.1.23',\n",
              "       '3.5.1.25', '3.5.1.41', '3.5.1.49', '3.5.1.5', '3.5.1.52',\n",
              "       '3.5.1.89', '3.5.1.9', '3.5.1.98', '3.5.1.99', '3.5.2.17',\n",
              "       '3.5.2.3', '3.5.2.5', '3.5.2.6', '3.5.2.7', '3.5.2.9', '3.5.3.1',\n",
              "       '3.5.3.11', '3.5.3.18', '3.5.3.4', '3.5.4.-', '3.5.4.1',\n",
              "       '3.5.4.12', '3.5.4.16', '3.5.4.19; 3.6.1.31; 1.1.1.23', '3.5.4.25',\n",
              "       '3.5.4.3', '3.5.4.33', '3.5.4.34', '3.5.4.5', '3.5.4.6',\n",
              "       '3.5.99.10', '3.5.99.6', '3.6.-.-', '3.6.-.-; 2.7.11.1', '3.6.1.-',\n",
              "       '3.6.1.-; 3.1.13.-', '3.6.1.-; 3.6.1.13; 3.6.1.22',\n",
              "       '3.6.1.-; 3.6.1.22', '3.6.1.1', '3.6.1.10', '3.6.1.11', '3.6.1.13',\n",
              "       '3.6.1.13; 3.6.1.58; 2.7.7.96', '3.6.1.17', '3.6.1.21', '3.6.1.23',\n",
              "       '3.6.1.29', '3.6.1.41', '3.6.1.42', '3.6.1.43', '3.6.1.5',\n",
              "       '3.6.1.52', '3.6.1.52; 3.6.1.-', '3.6.1.52; 3.6.1.60',\n",
              "       '3.6.1.55; 3.6.1.56', '3.6.1.55; 3.6.1.67; 3.6.1.22', '3.6.1.59',\n",
              "       '3.6.1.62', '3.6.1.9', '3.6.1.9; 2.1.1.-', '3.6.4.-',\n",
              "       '3.6.4.-; 4.2.99.-', '3.6.4.10', '3.6.4.12', '3.6.4.12; 3.1.-.-',\n",
              "       '3.6.4.12; 3.6.4.13', '3.6.4.13', '3.6.4.6', '3.6.5.-', '3.6.5.2',\n",
              "       '3.6.5.3', '3.6.5.5', '3.7.1.2', '3.7.1.3', '3.7.1.5',\n",
              "       '3.7.1.5; 4.1.1.112', '3.8.1.2'], dtype=object)"
            ]
          },
          "metadata": {
            "tags": []
          },
          "execution_count": 33
        }
      ]
    },
    {
      "cell_type": "code",
      "metadata": {
        "id": "o2pyAuXtY4Yl"
      },
      "source": [
        "ester_bonds = pd.DataFrame(enzimas2[enzimas2[\"EC number\"].str.match(\"^3.1.*\") == True])\n",
        "glycosylases = pd.DataFrame(enzimas2[enzimas2[\"EC number\"].str.match(\"^3.2.*\") == True])\n",
        "ether_bonds = pd.DataFrame(enzimas2[enzimas2[\"EC number\"].str.match(\"^3.3.*\") == True])\n",
        "peptidases2 = pd.DataFrame(enzimas2[enzimas2[\"EC number\"].str.match(\"^3.4.*\") == True])\n",
        "carbon_nitrogen_bonds = pd.DataFrame(enzimas2[enzimas2[\"EC number\"].str.match(\"^3.5.*\") == True])\n",
        "acid_anhydrides = pd.DataFrame(enzimas2[enzimas2[\"EC number\"].str.match(\"^3.6.*\") == True])\n",
        "carbon_carbon_bonds = pd.DataFrame(enzimas2[enzimas2[\"EC number\"].str.match(\"^3.7.*\") == True])\n",
        "halide_bonds = pd.DataFrame(enzimas2[enzimas2[\"EC number\"].str.match(\"^3.8.*\") == True])"
      ],
      "execution_count": 34,
      "outputs": []
    },
    {
      "cell_type": "code",
      "metadata": {
        "colab": {
          "base_uri": "https://localhost:8080/",
          "height": 269
        },
        "id": "YVTawGrOfGT1",
        "outputId": "dd684f0d-cc8f-40b5-f650-f83d17331546"
      },
      "source": [
        "classe_hydro_dict = {\"Classe\" : [\"Ação em ligações C-C\", \"Ação em ácidos anidros\", \"Ação em ligações C-N\\n não peptídicas\", \"Peptidases\", \"Ação em ligações éster\", \"Glicosilases\", \"Ação em ligações éter\"], \"tpm\" : [carbon_carbon_bonds[\"tpm\"].sum(), acid_anhydrides[\"tpm\"].sum(), carbon_nitrogen_bonds[\"tpm\"].sum(), peptidases2[\"tpm\"].sum(), ether_bonds[\"tpm\"].sum(), glycosylases[\"tpm\"].sum(), ester_bonds[\"tpm\"].sum()]}\n",
        "\n",
        "# \"Ação em ligações haleto\", halide_bonds[\"tpm\"].sum()\n",
        "classe_hydro_df = pd.DataFrame(data=classe_hydro_dict)\n",
        "classe_hydro_df"
      ],
      "execution_count": 35,
      "outputs": [
        {
          "output_type": "execute_result",
          "data": {
            "text/html": [
              "<div>\n",
              "<style scoped>\n",
              "    .dataframe tbody tr th:only-of-type {\n",
              "        vertical-align: middle;\n",
              "    }\n",
              "\n",
              "    .dataframe tbody tr th {\n",
              "        vertical-align: top;\n",
              "    }\n",
              "\n",
              "    .dataframe thead th {\n",
              "        text-align: right;\n",
              "    }\n",
              "</style>\n",
              "<table border=\"1\" class=\"dataframe\">\n",
              "  <thead>\n",
              "    <tr style=\"text-align: right;\">\n",
              "      <th></th>\n",
              "      <th>Classe</th>\n",
              "      <th>tpm</th>\n",
              "    </tr>\n",
              "  </thead>\n",
              "  <tbody>\n",
              "    <tr>\n",
              "      <th>0</th>\n",
              "      <td>Ação em ligações C-C</td>\n",
              "      <td>556.569154</td>\n",
              "    </tr>\n",
              "    <tr>\n",
              "      <th>1</th>\n",
              "      <td>Ação em ácidos anidros</td>\n",
              "      <td>19273.374358</td>\n",
              "    </tr>\n",
              "    <tr>\n",
              "      <th>2</th>\n",
              "      <td>Ação em ligações C-N\\n não peptídicas</td>\n",
              "      <td>10694.172141</td>\n",
              "    </tr>\n",
              "    <tr>\n",
              "      <th>3</th>\n",
              "      <td>Peptidases</td>\n",
              "      <td>17536.799321</td>\n",
              "    </tr>\n",
              "    <tr>\n",
              "      <th>4</th>\n",
              "      <td>Ação em ligações éster</td>\n",
              "      <td>945.615099</td>\n",
              "    </tr>\n",
              "    <tr>\n",
              "      <th>5</th>\n",
              "      <td>Glicosilases</td>\n",
              "      <td>3660.557160</td>\n",
              "    </tr>\n",
              "    <tr>\n",
              "      <th>6</th>\n",
              "      <td>Ação em ligações éter</td>\n",
              "      <td>40894.839161</td>\n",
              "    </tr>\n",
              "  </tbody>\n",
              "</table>\n",
              "</div>"
            ],
            "text/plain": [
              "                                  Classe           tpm\n",
              "0                   Ação em ligações C-C    556.569154\n",
              "1                 Ação em ácidos anidros  19273.374358\n",
              "2  Ação em ligações C-N\\n não peptídicas  10694.172141\n",
              "3                             Peptidases  17536.799321\n",
              "4                 Ação em ligações éster    945.615099\n",
              "5                           Glicosilases   3660.557160\n",
              "6                  Ação em ligações éter  40894.839161"
            ]
          },
          "metadata": {
            "tags": []
          },
          "execution_count": 35
        }
      ]
    },
    {
      "cell_type": "code",
      "metadata": {
        "colab": {
          "base_uri": "https://localhost:8080/",
          "height": 303
        },
        "id": "DtfvvNlWfpmv",
        "outputId": "0f6f5b27-3c8c-421c-ae2b-c9eb8dc92c24"
      },
      "source": [
        "fig, ax = plt.subplots(figsize=(8,4))\n",
        "ax.set_xlabel(\"TPM\", fontdict={\"fontsize\":14})\n",
        "ax.set_ylabel(\"Subclasse\", fontdict={\"fontsize\":14})\n",
        "plt.title(\"Expressão relativa das subclasses de hidrolases\", fontdict={\"fontsize\":14})\n",
        "plt.yticks(fontsize=12)\n",
        "plt.xticks(fontsize=12)#, rotation=45)\n",
        "plt.grid(axis=\"x\")\n",
        "ax.set_axisbelow(True)\n",
        "#ax.bar_label(classe_hydro_df[\"tpm\"], fmt='%.2f')\n",
        "\n",
        "\n",
        "hidro_plot = ax.barh(classe_hydro_df[\"Classe\"], classe_hydro_df[\"tpm\"], color= [\"#AD1659\",\"#AD1659\",\"#AD1659\",\"#701F57\",\"#AD1659\",\"#AD1659\",\"#AD1659\"],  height=0.6)\n",
        "\n",
        "plt.savefig(\"/content/drive/MyDrive/expressao_hidrolases_RMA.png\", bbox_inches='tight')"
      ],
      "execution_count": 37,
      "outputs": [
        {
          "output_type": "display_data",
          "data": {
            "image/png": "[encoded data removed]",
            "text/plain": [
              "<Figure size 576x288 with 1 Axes>"
            ]
          },
          "metadata": {
            "tags": [],
            "needs_background": "light"
          }
        }
      ]
    },
    {
      "cell_type": "code",
      "metadata": {
        "colab": {
          "base_uri": "https://localhost:8080/",
          "height": 424
        },
        "id": "4kfXXALP-5RL",
        "outputId": "9f4c11e9-8048-4441-e029-ed76633ad23d"
      },
      "source": [
        "peptidases2"
      ],
      "execution_count": 39,
      "outputs": [
        {
          "output_type": "execute_result",
          "data": {
            "text/html": [
              "<div>\n",
              "<style scoped>\n",
              "    .dataframe tbody tr th:only-of-type {\n",
              "        vertical-align: middle;\n",
              "    }\n",
              "\n",
              "    .dataframe tbody tr th {\n",
              "        vertical-align: top;\n",
              "    }\n",
              "\n",
              "    .dataframe thead th {\n",
              "        text-align: right;\n",
              "    }\n",
              "</style>\n",
              "<table border=\"1\" class=\"dataframe\">\n",
              "  <thead>\n",
              "    <tr style=\"text-align: right;\">\n",
              "      <th></th>\n",
              "      <th>DN</th>\n",
              "      <th>EC number</th>\n",
              "      <th>tpm</th>\n",
              "    </tr>\n",
              "  </thead>\n",
              "  <tbody>\n",
              "    <tr>\n",
              "      <th>171</th>\n",
              "      <td>DN19490</td>\n",
              "      <td>3.4.24.-</td>\n",
              "      <td>57.437900</td>\n",
              "    </tr>\n",
              "    <tr>\n",
              "      <th>309</th>\n",
              "      <td>DN12957</td>\n",
              "      <td>3.4.25.-</td>\n",
              "      <td>9.345066</td>\n",
              "    </tr>\n",
              "    <tr>\n",
              "      <th>313</th>\n",
              "      <td>DN5718</td>\n",
              "      <td>3.4.25.-</td>\n",
              "      <td>5.722171</td>\n",
              "    </tr>\n",
              "    <tr>\n",
              "      <th>316</th>\n",
              "      <td>DN7132</td>\n",
              "      <td>3.4.25.-</td>\n",
              "      <td>3.581280</td>\n",
              "    </tr>\n",
              "    <tr>\n",
              "      <th>507</th>\n",
              "      <td>DN16693</td>\n",
              "      <td>3.4.11.18</td>\n",
              "      <td>33.690760</td>\n",
              "    </tr>\n",
              "    <tr>\n",
              "      <th>...</th>\n",
              "      <td>...</td>\n",
              "      <td>...</td>\n",
              "      <td>...</td>\n",
              "    </tr>\n",
              "    <tr>\n",
              "      <th>18498</th>\n",
              "      <td>DN13585</td>\n",
              "      <td>3.4.25.1</td>\n",
              "      <td>59.878500</td>\n",
              "    </tr>\n",
              "    <tr>\n",
              "      <th>18500</th>\n",
              "      <td>DN9968</td>\n",
              "      <td>3.4.25.1</td>\n",
              "      <td>50.810473</td>\n",
              "    </tr>\n",
              "    <tr>\n",
              "      <th>18529</th>\n",
              "      <td>DN16494</td>\n",
              "      <td>3.4.24.70</td>\n",
              "      <td>5.488380</td>\n",
              "    </tr>\n",
              "    <tr>\n",
              "      <th>18531</th>\n",
              "      <td>DN16449</td>\n",
              "      <td>3.4.24.-</td>\n",
              "      <td>6.334580</td>\n",
              "    </tr>\n",
              "    <tr>\n",
              "      <th>18621</th>\n",
              "      <td>DN12648</td>\n",
              "      <td>3.4.11.-</td>\n",
              "      <td>16.566300</td>\n",
              "    </tr>\n",
              "  </tbody>\n",
              "</table>\n",
              "<p>412 rows × 3 columns</p>\n",
              "</div>"
            ],
            "text/plain": [
              "            DN  EC number        tpm\n",
              "171    DN19490   3.4.24.-  57.437900\n",
              "309    DN12957   3.4.25.-   9.345066\n",
              "313     DN5718   3.4.25.-   5.722171\n",
              "316     DN7132   3.4.25.-   3.581280\n",
              "507    DN16693  3.4.11.18  33.690760\n",
              "...        ...        ...        ...\n",
              "18498  DN13585   3.4.25.1  59.878500\n",
              "18500   DN9968   3.4.25.1  50.810473\n",
              "18529  DN16494  3.4.24.70   5.488380\n",
              "18531  DN16449   3.4.24.-   6.334580\n",
              "18621  DN12648   3.4.11.-  16.566300\n",
              "\n",
              "[412 rows x 3 columns]"
            ]
          },
          "metadata": {
            "tags": []
          },
          "execution_count": 39
        }
      ]
    },
    {
      "cell_type": "code",
      "metadata": {
        "colab": {
          "base_uri": "https://localhost:8080/"
        },
        "id": "w7VRQMOQALSH",
        "outputId": "f068acc0-c271-470d-f9c3-e496502cdf95"
      },
      "source": [
        "peptidases2[\"tpm\"].sum()"
      ],
      "execution_count": 40,
      "outputs": [
        {
          "output_type": "execute_result",
          "data": {
            "text/plain": [
              "17536.799320840284"
            ]
          },
          "metadata": {
            "tags": []
          },
          "execution_count": 40
        }
      ]
    },
    {
      "cell_type": "code",
      "metadata": {
        "id": "wmiWOA8WTFhU"
      },
      "source": [
        "pep_unique = peptidases2[\"EC number\"].unique()"
      ],
      "execution_count": 41,
      "outputs": []
    },
    {
      "cell_type": "code",
      "metadata": {
        "colab": {
          "base_uri": "https://localhost:8080/"
        },
        "id": "JopD9h-pUSKT",
        "outputId": "b68a1b10-2f93-469a-951d-121534d4d075"
      },
      "source": [
        "pep_unique.sort()\n",
        "pep_unique"
      ],
      "execution_count": 42,
      "outputs": [
        {
          "output_type": "execute_result",
          "data": {
            "text/plain": [
              "array(['3.4.-.-', '3.4.11.-', '3.4.11.-; 3.3.2.10', '3.4.11.18',\n",
              "       '3.4.11.1; 3.4.11.5', '3.4.11.1; 3.4.13.23; 3.4.11.5', '3.4.11.2',\n",
              "       '3.4.11.21', '3.4.11.26', '3.4.11.5', '3.4.11.9', '3.4.13.-',\n",
              "       '3.4.13.19; 3.5.2.6', '3.4.13.9', '3.4.14.-', '3.4.14.10',\n",
              "       '3.4.14.4', '3.4.14.5', '3.4.16.5', '3.4.16.6', '3.4.17.21',\n",
              "       '3.4.19.-', '3.4.19.1', '3.4.19.12', '3.4.19.13; 2.3.2.2',\n",
              "       '3.4.19.13; 2.3.2.2; 3.4.19.14', '3.4.21.-', '3.4.21.105',\n",
              "       '3.4.21.48', '3.4.21.53', '3.4.21.63', '3.4.21.83', '3.4.21.89',\n",
              "       '3.4.21.92', '3.4.21.96', '3.4.22.-', '3.4.22.40', '3.4.22.49',\n",
              "       '3.4.23.-', '3.4.23.-; 2.7.7.49',\n",
              "       '3.4.23.-; 2.7.7.49; 2.7.7.7; 3.1.26.4',\n",
              "       '3.4.23.-; 2.7.7.49; 2.7.7.7; 3.1.26.4; 2.7.7.-; 3.1.-.-',\n",
              "       '3.4.23.-; 2.7.7.49; 3.1.26.13; 3.1.13.2; 3.6.1.23; 2.7.7.-; 3.1.-.-',\n",
              "       '3.4.23.1', '3.4.23.18', '3.4.23.21', '3.4.23.23', '3.4.23.25',\n",
              "       '3.4.23.3', '3.4.23.34', '3.4.23.5', '3.4.24.-', '3.4.24.11',\n",
              "       '3.4.24.15', '3.4.24.56', '3.4.24.59', '3.4.24.64', '3.4.24.70',\n",
              "       '3.4.24.71', '3.4.24.84', '3.4.24.85', '3.4.25.-', '3.4.25.1'],\n",
              "      dtype=object)"
            ]
          },
          "metadata": {
            "tags": []
          },
          "execution_count": 42
        }
      ]
    },
    {
      "cell_type": "code",
      "metadata": {
        "colab": {
          "base_uri": "https://localhost:8080/"
        },
        "id": "8bPyzBleTjbO",
        "outputId": "39731d43-c5e1-42d4-c17f-e9ab7d0b2edb"
      },
      "source": [
        "len(peptidases2[\"EC number\"].unique())"
      ],
      "execution_count": 43,
      "outputs": [
        {
          "output_type": "execute_result",
          "data": {
            "text/plain": [
              "63"
            ]
          },
          "metadata": {
            "tags": []
          },
          "execution_count": 43
        }
      ]
    },
    {
      "cell_type": "code",
      "metadata": {
        "id": "n1gn9Ci3zgFT"
      },
      "source": [
        "Aminopeptidases = pd.DataFrame(peptidases2[peptidases2[\"EC number\"].str.match(\"^3.4.11.*\") == True])\n",
        "Dipeptidases = pd.DataFrame(peptidases2[peptidases2[\"EC number\"].str.match(\"^3.4.13.*\") == True])\n",
        "Dipeptidyl_peptidases_tripeptidyl_peptidases = pd.DataFrame(peptidases2[peptidases2[\"EC number\"].str.match(\"^3.4.14.*\") == True])\n",
        "Serine_carboxypeptidases = pd.DataFrame(peptidases2[peptidases2[\"EC number\"].str.match(\"^3.4.16.*\") == True])\n",
        "Metallocarboxypeptidases = pd.DataFrame(peptidases2[peptidases2[\"EC number\"].str.match(\"^3.4.17.*\") == True])\n",
        "Omega_peptidases = pd.DataFrame(peptidases2[peptidases2[\"EC number\"].str.match(\"^3.4.19.*\") == True])\n",
        "Serine_endopeptidases = pd.DataFrame(peptidases2[peptidases2[\"EC number\"].str.match(\"^3.4.21.*\") == True])\n",
        "Cysteine_endopeptidases = pd.DataFrame(peptidases2[peptidases2[\"EC number\"].str.match(\"^3.4.22.*\") == True])\n",
        "Aspartic_endopeptidases = pd.DataFrame(peptidases2[peptidases2[\"EC number\"].str.match(\"^3.4.23.*\") == True])\n",
        "Metalloendopeptidases = pd.DataFrame(peptidases2[peptidases2[\"EC number\"].str.match(\"^3.4.24.*\") == True])\n",
        "Threonine_endopeptidases = pd.DataFrame(peptidases2[peptidases2[\"EC number\"].str.match(\"^3.4.25.*\") == True])"
      ],
      "execution_count": 44,
      "outputs": []
    },
    {
      "cell_type": "code",
      "metadata": {
        "colab": {
          "base_uri": "https://localhost:8080/",
          "height": 394
        },
        "id": "_KNJ9C2-YOgf",
        "outputId": "8e3755e5-6926-4249-98d8-b2677e398ee5"
      },
      "source": [
        "peptidases_dict = {\"Classe\" : [\"Treonino endopeptidases\", \"Metaloendopeptidases\", \"Aspártico endopeptidases\", \"Cisteíno endopeptidases\", \"Serino endopeptidases\", \"Ômega peptidases\", \"Metalocarboxipeptidases\", \"Serino carboxipeptidases\", \"Dipeptidil peptidases \\ne tripeptidil peptidases\", \"Dipeptidases\", \"Aminopeptidases\"], \"tpm\" : [Threonine_endopeptidases[\"tpm\"].sum(), Metalloendopeptidases[\"tpm\"].sum(), Aspartic_endopeptidases[\"tpm\"].sum(), Cysteine_endopeptidases[\"tpm\"].sum(), Serine_endopeptidases[\"tpm\"].sum(), Omega_peptidases[\"tpm\"].sum(), Metallocarboxypeptidases[\"tpm\"].sum(), Serine_carboxypeptidases[\"tpm\"].sum(), Dipeptidyl_peptidases_tripeptidyl_peptidases[\"tpm\"].sum(), Dipeptidases[\"tpm\"].sum(), Aminopeptidases[\"tpm\"].sum()]}\n",
        "peptidases_df = pd.DataFrame(data=peptidases_dict)\n",
        "peptidases_df"
      ],
      "execution_count": 45,
      "outputs": [
        {
          "output_type": "execute_result",
          "data": {
            "text/html": [
              "<div>\n",
              "<style scoped>\n",
              "    .dataframe tbody tr th:only-of-type {\n",
              "        vertical-align: middle;\n",
              "    }\n",
              "\n",
              "    .dataframe tbody tr th {\n",
              "        vertical-align: top;\n",
              "    }\n",
              "\n",
              "    .dataframe thead th {\n",
              "        text-align: right;\n",
              "    }\n",
              "</style>\n",
              "<table border=\"1\" class=\"dataframe\">\n",
              "  <thead>\n",
              "    <tr style=\"text-align: right;\">\n",
              "      <th></th>\n",
              "      <th>Classe</th>\n",
              "      <th>tpm</th>\n",
              "    </tr>\n",
              "  </thead>\n",
              "  <tbody>\n",
              "    <tr>\n",
              "      <th>0</th>\n",
              "      <td>Treonino endopeptidases</td>\n",
              "      <td>865.015660</td>\n",
              "    </tr>\n",
              "    <tr>\n",
              "      <th>1</th>\n",
              "      <td>Metaloendopeptidases</td>\n",
              "      <td>1303.913836</td>\n",
              "    </tr>\n",
              "    <tr>\n",
              "      <th>2</th>\n",
              "      <td>Aspártico endopeptidases</td>\n",
              "      <td>4691.631479</td>\n",
              "    </tr>\n",
              "    <tr>\n",
              "      <th>3</th>\n",
              "      <td>Cisteíno endopeptidases</td>\n",
              "      <td>927.641846</td>\n",
              "    </tr>\n",
              "    <tr>\n",
              "      <th>4</th>\n",
              "      <td>Serino endopeptidases</td>\n",
              "      <td>2266.148735</td>\n",
              "    </tr>\n",
              "    <tr>\n",
              "      <th>5</th>\n",
              "      <td>Ômega peptidases</td>\n",
              "      <td>2234.674612</td>\n",
              "    </tr>\n",
              "    <tr>\n",
              "      <th>6</th>\n",
              "      <td>Metalocarboxipeptidases</td>\n",
              "      <td>303.111058</td>\n",
              "    </tr>\n",
              "    <tr>\n",
              "      <th>7</th>\n",
              "      <td>Serino carboxipeptidases</td>\n",
              "      <td>523.887658</td>\n",
              "    </tr>\n",
              "    <tr>\n",
              "      <th>8</th>\n",
              "      <td>Dipeptidil peptidases \\ne tripeptidil peptidases</td>\n",
              "      <td>871.756592</td>\n",
              "    </tr>\n",
              "    <tr>\n",
              "      <th>9</th>\n",
              "      <td>Dipeptidases</td>\n",
              "      <td>542.612502</td>\n",
              "    </tr>\n",
              "    <tr>\n",
              "      <th>10</th>\n",
              "      <td>Aminopeptidases</td>\n",
              "      <td>2117.704721</td>\n",
              "    </tr>\n",
              "  </tbody>\n",
              "</table>\n",
              "</div>"
            ],
            "text/plain": [
              "                                              Classe          tpm\n",
              "0                            Treonino endopeptidases   865.015660\n",
              "1                               Metaloendopeptidases  1303.913836\n",
              "2                           Aspártico endopeptidases  4691.631479\n",
              "3                            Cisteíno endopeptidases   927.641846\n",
              "4                              Serino endopeptidases  2266.148735\n",
              "5                                   Ômega peptidases  2234.674612\n",
              "6                            Metalocarboxipeptidases   303.111058\n",
              "7                           Serino carboxipeptidases   523.887658\n",
              "8   Dipeptidil peptidases \\ne tripeptidil peptidases   871.756592\n",
              "9                                       Dipeptidases   542.612502\n",
              "10                                   Aminopeptidases  2117.704721"
            ]
          },
          "metadata": {
            "tags": []
          },
          "execution_count": 45
        }
      ]
    },
    {
      "cell_type": "code",
      "metadata": {
        "id": "cL3HKWMuAPid",
        "colab": {
          "base_uri": "https://localhost:8080/",
          "height": 413
        },
        "outputId": "736c9984-61d7-4dbd-f67e-b31e8342a10d"
      },
      "source": [
        "fig, ax = plt.subplots(figsize=(8,6))\n",
        "ax.set_xlabel(\"TPM\", fontdict={\"fontsize\":14})\n",
        "ax.set_ylabel(\"Família\", fontdict={\"fontsize\":14})\n",
        "plt.title(\"Expressão relativa das famílias de peptidases\", fontdict={\"fontsize\":14})\n",
        "plt.yticks(fontsize=12)\n",
        "plt.xticks(fontsize=12)#, rotation=45)\n",
        "plt.grid(axis=\"x\")\n",
        "ax.set_axisbelow(True)\n",
        "\n",
        "plt.barh(peptidases_df[\"Classe\"], peptidases_df[\"tpm\"], color= \"#701F57\",  height=0.6)\n",
        "\n",
        "plt.savefig(\"/content/drive/MyDrive/expressao_peptidases_RMA.png\", bbox_inches='tight')"
      ],
      "execution_count": 46,
      "outputs": [
        {
          "output_type": "display_data",
          "data": {
            "image/png": "[encoded data removed]",
            "text/plain": [
              "<Figure size 576x432 with 1 Axes>"
            ]
          },
          "metadata": {
            "tags": [],
            "needs_background": "light"
          }
        }
      ]
    },
    {
      "cell_type": "code",
      "metadata": {
        "id": "DLNLB-2OggkU"
      },
      "source": [
        ""
      ],
      "execution_count": null,
      "outputs": []
    }
  ]
}